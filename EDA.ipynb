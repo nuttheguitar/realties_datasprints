{
 "cells": [
  {
   "cell_type": "code",
   "execution_count": 1,
   "metadata": {},
   "outputs": [],
   "source": [
    "from pandas.io.json import json_normalize\n",
    "import numpy as np\n",
    "import pandas as pd\n",
    "import seaborn as sns\n",
    "import matplotlib.pyplot as plt\n",
    "from scipy import stats\n",
    "from scipy.stats import norm"
   ]
  },
  {
   "cell_type": "code",
   "execution_count": 2,
   "metadata": {},
   "outputs": [],
   "source": [
    "# Read Json\n",
    "raw_data = pd.read_json('./realties.json', lines=True)\n",
    "df = pd.read_json('./realties.json', lines=False)\n",
    "df_src = json_normalize(data=df['_source'])"
   ]
  },
  {
   "cell_type": "code",
   "execution_count": 3,
   "metadata": {
    "scrolled": true
   },
   "outputs": [
    {
     "data": {
      "text/html": [
       "<div>\n",
       "<style scoped>\n",
       "    .dataframe tbody tr th:only-of-type {\n",
       "        vertical-align: middle;\n",
       "    }\n",
       "\n",
       "    .dataframe tbody tr th {\n",
       "        vertical-align: top;\n",
       "    }\n",
       "\n",
       "    .dataframe thead th {\n",
       "        text-align: right;\n",
       "    }\n",
       "</style>\n",
       "<table border=\"1\" class=\"dataframe\">\n",
       "  <thead>\n",
       "    <tr style=\"text-align: right;\">\n",
       "      <th></th>\n",
       "      <th>_id</th>\n",
       "      <th>_index</th>\n",
       "      <th>_score</th>\n",
       "      <th>_source</th>\n",
       "      <th>_type</th>\n",
       "    </tr>\n",
       "  </thead>\n",
       "  <tbody>\n",
       "    <tr>\n",
       "      <th>10</th>\n",
       "      <td>3er7iGcB_HRRL6pGxWnM</td>\n",
       "      <td>realties</td>\n",
       "      <td>1</td>\n",
       "      <td>{'endereco': 'Butiatuvinha, Curitiba', 'cidade...</td>\n",
       "      <td>imovel</td>\n",
       "    </tr>\n",
       "    <tr>\n",
       "      <th>1000</th>\n",
       "      <td>eer7iGcB_HRRL6pGDml3</td>\n",
       "      <td>realties</td>\n",
       "      <td>1</td>\n",
       "      <td>{'endereco': 'R. Gen. José Ferreira de Barros,...</td>\n",
       "      <td>imovel</td>\n",
       "    </tr>\n",
       "    <tr>\n",
       "      <th>10000</th>\n",
       "      <td>hOndh2cB_HRRL6pGj-Ij</td>\n",
       "      <td>realties</td>\n",
       "      <td>1</td>\n",
       "      <td>{'cidade_uf': 'curitiba_pr', 'area_privativa':...</td>\n",
       "      <td>imovel</td>\n",
       "    </tr>\n",
       "    <tr>\n",
       "      <th>100000</th>\n",
       "      <td>1izFnmcBITdkjQvHI7LE</td>\n",
       "      <td>realties</td>\n",
       "      <td>1</td>\n",
       "      <td>{'geohash': '6gkznmm6gbub', 'suite': 3, 'iptu'...</td>\n",
       "      <td>imovel</td>\n",
       "    </tr>\n",
       "    <tr>\n",
       "      <th>100001</th>\n",
       "      <td>1yzFnmcBITdkjQvHI7Lz</td>\n",
       "      <td>realties</td>\n",
       "      <td>1</td>\n",
       "      <td>{'geohash': '6gkzrep7ezsk', 'suite': 0, 'iptu'...</td>\n",
       "      <td>imovel</td>\n",
       "    </tr>\n",
       "    <tr>\n",
       "      <th>100002</th>\n",
       "      <td>2CzFnmcBITdkjQvHJLIt</td>\n",
       "      <td>realties</td>\n",
       "      <td>1</td>\n",
       "      <td>{'geohash': '6gkzn2g603ub', 'suite': 1, 'iptu'...</td>\n",
       "      <td>imovel</td>\n",
       "    </tr>\n",
       "    <tr>\n",
       "      <th>100003</th>\n",
       "      <td>2SzFnmcBITdkjQvHJLJL</td>\n",
       "      <td>realties</td>\n",
       "      <td>1</td>\n",
       "      <td>{'geohash': '6gkzkvwhm1u0', 'suite': 4, 'iptu'...</td>\n",
       "      <td>imovel</td>\n",
       "    </tr>\n",
       "    <tr>\n",
       "      <th>100004</th>\n",
       "      <td>2izFnmcBITdkjQvHJLKF</td>\n",
       "      <td>realties</td>\n",
       "      <td>1</td>\n",
       "      <td>{'geohash': '6gkzwz5mtppj', 'suite': 1, 'iptu'...</td>\n",
       "      <td>imovel</td>\n",
       "    </tr>\n",
       "    <tr>\n",
       "      <th>100005</th>\n",
       "      <td>2yzFnmcBITdkjQvHJLKS</td>\n",
       "      <td>realties</td>\n",
       "      <td>1</td>\n",
       "      <td>{'geohash': '6gkzkvwhm1u0', 'suite': 5, 'iptu'...</td>\n",
       "      <td>imovel</td>\n",
       "    </tr>\n",
       "    <tr>\n",
       "      <th>100006</th>\n",
       "      <td>3CzFnmcBITdkjQvHJLK2</td>\n",
       "      <td>realties</td>\n",
       "      <td>1</td>\n",
       "      <td>{'geohash': '6gkzjec3x7dx', 'suite': 4, 'iptu'...</td>\n",
       "      <td>imovel</td>\n",
       "    </tr>\n",
       "    <tr>\n",
       "      <th>100007</th>\n",
       "      <td>3SzFnmcBITdkjQvHJLLx</td>\n",
       "      <td>realties</td>\n",
       "      <td>1</td>\n",
       "      <td>{'geohash': '6gkznmm6gbub', 'suite': 3, 'iptu'...</td>\n",
       "      <td>imovel</td>\n",
       "    </tr>\n",
       "    <tr>\n",
       "      <th>100008</th>\n",
       "      <td>3izFnmcBITdkjQvHJbIQ</td>\n",
       "      <td>realties</td>\n",
       "      <td>1</td>\n",
       "      <td>{'geohash': '6gkzm0s46pdm', 'suite': 2, 'iptu'...</td>\n",
       "      <td>imovel</td>\n",
       "    </tr>\n",
       "    <tr>\n",
       "      <th>100009</th>\n",
       "      <td>3yzFnmcBITdkjQvHJbKQ</td>\n",
       "      <td>realties</td>\n",
       "      <td>1</td>\n",
       "      <td>{'descricao': 'Apartamento padrão Plaenge, loc...</td>\n",
       "      <td>imovel</td>\n",
       "    </tr>\n",
       "    <tr>\n",
       "      <th>10001</th>\n",
       "      <td>hundh2cB_HRRL6pGj-Lo</td>\n",
       "      <td>realties</td>\n",
       "      <td>1</td>\n",
       "      <td>{'tipo_negocio': 'Locação', 'cidade_uf': 'curi...</td>\n",
       "      <td>imovel</td>\n",
       "    </tr>\n",
       "    <tr>\n",
       "      <th>100010</th>\n",
       "      <td>4CzFnmcBITdkjQvHJbKR</td>\n",
       "      <td>realties</td>\n",
       "      <td>1</td>\n",
       "      <td>{'descricao': 'O bairro Juvevê está localizado...</td>\n",
       "      <td>imovel</td>\n",
       "    </tr>\n",
       "    <tr>\n",
       "      <th>100011</th>\n",
       "      <td>4SzFnmcBITdkjQvHJbLY</td>\n",
       "      <td>realties</td>\n",
       "      <td>1</td>\n",
       "      <td>{'geohash': '6gkzq31bx47j', 'suite': 2, 'iptu'...</td>\n",
       "      <td>imovel</td>\n",
       "    </tr>\n",
       "    <tr>\n",
       "      <th>100012</th>\n",
       "      <td>4izFnmcBITdkjQvHJrKC</td>\n",
       "      <td>realties</td>\n",
       "      <td>1</td>\n",
       "      <td>{'geohash': '6gkzjs2n6b3u', 'suite': 4, 'iptu'...</td>\n",
       "      <td>imovel</td>\n",
       "    </tr>\n",
       "    <tr>\n",
       "      <th>100013</th>\n",
       "      <td>qCzFnmcBITdkjQvHC7IU</td>\n",
       "      <td>realties</td>\n",
       "      <td>1</td>\n",
       "      <td>{'geohash': '6gkzn13e5s7u', 'suite': 3, 'iptu'...</td>\n",
       "      <td>imovel</td>\n",
       "    </tr>\n",
       "    <tr>\n",
       "      <th>100014</th>\n",
       "      <td>qSzFnmcBITdkjQvHC7JN</td>\n",
       "      <td>realties</td>\n",
       "      <td>1</td>\n",
       "      <td>{'geohash': '6gkzq1wwm1ve', 'suite': 4, 'iptu'...</td>\n",
       "      <td>imovel</td>\n",
       "    </tr>\n",
       "    <tr>\n",
       "      <th>100015</th>\n",
       "      <td>qizFnmcBITdkjQvHC7J9</td>\n",
       "      <td>realties</td>\n",
       "      <td>1</td>\n",
       "      <td>{'geohash': '6gkzq1wwm1ve', 'suite': 4, 'iptu'...</td>\n",
       "      <td>imovel</td>\n",
       "    </tr>\n",
       "    <tr>\n",
       "      <th>100016</th>\n",
       "      <td>qyzFnmcBITdkjQvHC7LA</td>\n",
       "      <td>realties</td>\n",
       "      <td>1</td>\n",
       "      <td>{'geohash': '6gkzt709qxur', 'suite': 4, 'iptu'...</td>\n",
       "      <td>imovel</td>\n",
       "    </tr>\n",
       "    <tr>\n",
       "      <th>100017</th>\n",
       "      <td>rCzFnmcBITdkjQvHDLJD</td>\n",
       "      <td>realties</td>\n",
       "      <td>1</td>\n",
       "      <td>{'descricao': 'LOJA NOVA PRONTA PARA USO, AMPL...</td>\n",
       "      <td>imovel</td>\n",
       "    </tr>\n",
       "    <tr>\n",
       "      <th>100018</th>\n",
       "      <td>rSzFnmcBITdkjQvHDLJR</td>\n",
       "      <td>realties</td>\n",
       "      <td>1</td>\n",
       "      <td>{'descricao': 'Excelente casa em condomínio fe...</td>\n",
       "      <td>imovel</td>\n",
       "    </tr>\n",
       "    <tr>\n",
       "      <th>100019</th>\n",
       "      <td>rizFnmcBITdkjQvHDLK7</td>\n",
       "      <td>realties</td>\n",
       "      <td>1</td>\n",
       "      <td>{'geohash': '6gmp2q46nh6p', 'suite': 1, 'iptu'...</td>\n",
       "      <td>imovel</td>\n",
       "    </tr>\n",
       "    <tr>\n",
       "      <th>10002</th>\n",
       "      <td>h-ndh2cB_HRRL6pGkOIl</td>\n",
       "      <td>realties</td>\n",
       "      <td>1</td>\n",
       "      <td>{'tipo_negocio': 'Locação', 'cidade_uf': 'curi...</td>\n",
       "      <td>imovel</td>\n",
       "    </tr>\n",
       "    <tr>\n",
       "      <th>100020</th>\n",
       "      <td>ryzFnmcBITdkjQvHDbLL</td>\n",
       "      <td>realties</td>\n",
       "      <td>1</td>\n",
       "      <td>{'suite': 0, 'tipo_negocio': 'Venda', 'cidade_...</td>\n",
       "      <td>imovel</td>\n",
       "    </tr>\n",
       "    <tr>\n",
       "      <th>100021</th>\n",
       "      <td>sCzFnmcBITdkjQvHDrIB</td>\n",
       "      <td>realties</td>\n",
       "      <td>1</td>\n",
       "      <td>{'suite': 4, 'tipo_negocio': 'Venda', 'cidade_...</td>\n",
       "      <td>imovel</td>\n",
       "    </tr>\n",
       "    <tr>\n",
       "      <th>100022</th>\n",
       "      <td>sSzFnmcBITdkjQvHDrIm</td>\n",
       "      <td>realties</td>\n",
       "      <td>1</td>\n",
       "      <td>{'suite': 0, 'tipo_negocio': 'Venda', 'cidade_...</td>\n",
       "      <td>imovel</td>\n",
       "    </tr>\n",
       "    <tr>\n",
       "      <th>100023</th>\n",
       "      <td>sizFnmcBITdkjQvHDrJ0</td>\n",
       "      <td>realties</td>\n",
       "      <td>1</td>\n",
       "      <td>{'descricao': 'Jose whatsCasa com 390 m² de co...</td>\n",
       "      <td>imovel</td>\n",
       "    </tr>\n",
       "    <tr>\n",
       "      <th>100024</th>\n",
       "      <td>syzFnmcBITdkjQvHDrLj</td>\n",
       "      <td>realties</td>\n",
       "      <td>1</td>\n",
       "      <td>{'geohash': '6gkzm0e7t5de', 'suite': 3, 'iptu'...</td>\n",
       "      <td>imovel</td>\n",
       "    </tr>\n",
       "    <tr>\n",
       "      <th>...</th>\n",
       "      <td>...</td>\n",
       "      <td>...</td>\n",
       "      <td>...</td>\n",
       "      <td>...</td>\n",
       "      <td>...</td>\n",
       "    </tr>\n",
       "    <tr>\n",
       "      <th>99972</th>\n",
       "      <td>vyzpnWcBITdkjQvHfpA_</td>\n",
       "      <td>realties</td>\n",
       "      <td>1</td>\n",
       "      <td>{'cidade_uf': 'curitiba_pr', 'tipo_negocio': '...</td>\n",
       "      <td>imovel</td>\n",
       "    </tr>\n",
       "    <tr>\n",
       "      <th>99973</th>\n",
       "      <td>wCzpnWcBITdkjQvHfpDP</td>\n",
       "      <td>realties</td>\n",
       "      <td>1</td>\n",
       "      <td>{'iptu': 0, 'cidade_uf': 'curitiba_pr', 'tipo_...</td>\n",
       "      <td>imovel</td>\n",
       "    </tr>\n",
       "    <tr>\n",
       "      <th>99974</th>\n",
       "      <td>rizpnWcBITdkjQvHcJAi</td>\n",
       "      <td>realties</td>\n",
       "      <td>1</td>\n",
       "      <td>{'cidade_uf': 'curitiba_pr', 'scraping': {'spi...</td>\n",
       "      <td>imovel</td>\n",
       "    </tr>\n",
       "    <tr>\n",
       "      <th>99975</th>\n",
       "      <td>ryzpnWcBITdkjQvHcZBh</td>\n",
       "      <td>realties</td>\n",
       "      <td>1</td>\n",
       "      <td>{'iptu': 70, 'cidade_uf': 'curitiba_pr', 'tipo...</td>\n",
       "      <td>imovel</td>\n",
       "    </tr>\n",
       "    <tr>\n",
       "      <th>99976</th>\n",
       "      <td>sCzpnWcBITdkjQvHcZC9</td>\n",
       "      <td>realties</td>\n",
       "      <td>1</td>\n",
       "      <td>{'bairro': {'nome': 'Centro', 'id': '1679'}, '...</td>\n",
       "      <td>imovel</td>\n",
       "    </tr>\n",
       "    <tr>\n",
       "      <th>99977</th>\n",
       "      <td>sSzpnWcBITdkjQvHcpBg</td>\n",
       "      <td>realties</td>\n",
       "      <td>1</td>\n",
       "      <td>{'iptu': 59, 'cidade_uf': 'curitiba_pr', 'tipo...</td>\n",
       "      <td>imovel</td>\n",
       "    </tr>\n",
       "    <tr>\n",
       "      <th>99978</th>\n",
       "      <td>myzpnWcBITdkjQvHYJA8</td>\n",
       "      <td>realties</td>\n",
       "      <td>1</td>\n",
       "      <td>{'bairro': {'nome': 'Jardim Botânico', 'id': '...</td>\n",
       "      <td>imovel</td>\n",
       "    </tr>\n",
       "    <tr>\n",
       "      <th>99979</th>\n",
       "      <td>nCzpnWcBITdkjQvHYZAo</td>\n",
       "      <td>realties</td>\n",
       "      <td>1</td>\n",
       "      <td>{'bairro': {'nome': 'Cristo Rei', 'id': '1600'...</td>\n",
       "      <td>imovel</td>\n",
       "    </tr>\n",
       "    <tr>\n",
       "      <th>9998</th>\n",
       "      <td>kOndh2cB_HRRL6pGpOKL</td>\n",
       "      <td>realties</td>\n",
       "      <td>1</td>\n",
       "      <td>{'tipo_negocio': 'Locação', 'cidade_uf': 'curi...</td>\n",
       "      <td>imovel</td>\n",
       "    </tr>\n",
       "    <tr>\n",
       "      <th>99980</th>\n",
       "      <td>nSzpnWcBITdkjQvHYZBb</td>\n",
       "      <td>realties</td>\n",
       "      <td>1</td>\n",
       "      <td>{'bairro': {'nome': 'São Francisco', 'id': '16...</td>\n",
       "      <td>imovel</td>\n",
       "    </tr>\n",
       "    <tr>\n",
       "      <th>99981</th>\n",
       "      <td>nizpnWcBITdkjQvHYpAE</td>\n",
       "      <td>realties</td>\n",
       "      <td>1</td>\n",
       "      <td>{'bairro': {'nome': 'São Francisco', 'id': '16...</td>\n",
       "      <td>imovel</td>\n",
       "    </tr>\n",
       "    <tr>\n",
       "      <th>99982</th>\n",
       "      <td>nyzpnWcBITdkjQvHY5CI</td>\n",
       "      <td>realties</td>\n",
       "      <td>1</td>\n",
       "      <td>{'bairro': {'nome': 'Cidade Industrial', 'id':...</td>\n",
       "      <td>imovel</td>\n",
       "    </tr>\n",
       "    <tr>\n",
       "      <th>99983</th>\n",
       "      <td>lyzpnWcBITdkjQvHXZAG</td>\n",
       "      <td>realties</td>\n",
       "      <td>1</td>\n",
       "      <td>{'iptu': 43, 'cidade_uf': 'curitiba_pr', 'tipo...</td>\n",
       "      <td>imovel</td>\n",
       "    </tr>\n",
       "    <tr>\n",
       "      <th>99984</th>\n",
       "      <td>mCzpnWcBITdkjQvHXpAo</td>\n",
       "      <td>realties</td>\n",
       "      <td>1</td>\n",
       "      <td>{'iptu': 1000, 'cidade_uf': 'curitiba_pr', 'ti...</td>\n",
       "      <td>imovel</td>\n",
       "    </tr>\n",
       "    <tr>\n",
       "      <th>99985</th>\n",
       "      <td>mSzpnWcBITdkjQvHXpDM</td>\n",
       "      <td>realties</td>\n",
       "      <td>1</td>\n",
       "      <td>{'cidade_uf': 'curitiba_pr', 'tipo_negocio': '...</td>\n",
       "      <td>imovel</td>\n",
       "    </tr>\n",
       "    <tr>\n",
       "      <th>99986</th>\n",
       "      <td>mizpnWcBITdkjQvHX5An</td>\n",
       "      <td>realties</td>\n",
       "      <td>1</td>\n",
       "      <td>{'iptu': 43, 'cidade_uf': 'curitiba_pr', 'tipo...</td>\n",
       "      <td>imovel</td>\n",
       "    </tr>\n",
       "    <tr>\n",
       "      <th>99987</th>\n",
       "      <td>uCzpnWcBITdkjQvHeJAM</td>\n",
       "      <td>realties</td>\n",
       "      <td>1</td>\n",
       "      <td>{'bairro': {'nome': 'Campo Comprido', 'id': '1...</td>\n",
       "      <td>imovel</td>\n",
       "    </tr>\n",
       "    <tr>\n",
       "      <th>99988</th>\n",
       "      <td>uSzpnWcBITdkjQvHepBr</td>\n",
       "      <td>realties</td>\n",
       "      <td>1</td>\n",
       "      <td>{'iptu': 157, 'cidade_uf': 'curitiba_pr', 'tip...</td>\n",
       "      <td>imovel</td>\n",
       "    </tr>\n",
       "    <tr>\n",
       "      <th>99989</th>\n",
       "      <td>uizpnWcBITdkjQvHepCF</td>\n",
       "      <td>realties</td>\n",
       "      <td>1</td>\n",
       "      <td>{'bairro': {'nome': 'Boqueirão', 'id': '1666'}...</td>\n",
       "      <td>imovel</td>\n",
       "    </tr>\n",
       "    <tr>\n",
       "      <th>9999</th>\n",
       "      <td>kendh2cB_HRRL6pGpOKO</td>\n",
       "      <td>realties</td>\n",
       "      <td>1</td>\n",
       "      <td>{'tipo_negocio': 'Locação', 'cidade_uf': 'curi...</td>\n",
       "      <td>imovel</td>\n",
       "    </tr>\n",
       "    <tr>\n",
       "      <th>99990</th>\n",
       "      <td>uyzpnWcBITdkjQvHe5BT</td>\n",
       "      <td>realties</td>\n",
       "      <td>1</td>\n",
       "      <td>{'bairro': {'nome': 'Centro', 'id': '1679'}, '...</td>\n",
       "      <td>imovel</td>\n",
       "    </tr>\n",
       "    <tr>\n",
       "      <th>99991</th>\n",
       "      <td>oCzpnWcBITdkjQvHZJBu</td>\n",
       "      <td>realties</td>\n",
       "      <td>1</td>\n",
       "      <td>{'bairro': {'nome': 'Cabral', 'id': '1651'}, '...</td>\n",
       "      <td>imovel</td>\n",
       "    </tr>\n",
       "    <tr>\n",
       "      <th>99992</th>\n",
       "      <td>oSzpnWcBITdkjQvHZZD1</td>\n",
       "      <td>realties</td>\n",
       "      <td>1</td>\n",
       "      <td>{'iptu': 33, 'cidade_uf': 'curitiba_pr', 'tipo...</td>\n",
       "      <td>imovel</td>\n",
       "    </tr>\n",
       "    <tr>\n",
       "      <th>99993</th>\n",
       "      <td>oizpnWcBITdkjQvHZ5AT</td>\n",
       "      <td>realties</td>\n",
       "      <td>1</td>\n",
       "      <td>{'cidade_uf': 'curitiba_pr', 'scraping': {'spi...</td>\n",
       "      <td>imovel</td>\n",
       "    </tr>\n",
       "    <tr>\n",
       "      <th>99994</th>\n",
       "      <td>oyzpnWcBITdkjQvHZ5CW</td>\n",
       "      <td>realties</td>\n",
       "      <td>1</td>\n",
       "      <td>{'iptu': 0, 'cidade_uf': 'curitiba_pr', 'tipo_...</td>\n",
       "      <td>imovel</td>\n",
       "    </tr>\n",
       "    <tr>\n",
       "      <th>99995</th>\n",
       "      <td>pCzpnWcBITdkjQvHaJB5</td>\n",
       "      <td>realties</td>\n",
       "      <td>1</td>\n",
       "      <td>{'bairro': {'nome': 'Pinheirinho', 'id': '1719...</td>\n",
       "      <td>imovel</td>\n",
       "    </tr>\n",
       "    <tr>\n",
       "      <th>99996</th>\n",
       "      <td>pSzpnWcBITdkjQvHaZAN</td>\n",
       "      <td>realties</td>\n",
       "      <td>1</td>\n",
       "      <td>{'bairro': {'nome': 'Cajuru', 'id': '1706'}, '...</td>\n",
       "      <td>imovel</td>\n",
       "    </tr>\n",
       "    <tr>\n",
       "      <th>99997</th>\n",
       "      <td>pizpnWcBITdkjQvHapCL</td>\n",
       "      <td>realties</td>\n",
       "      <td>1</td>\n",
       "      <td>{'bairro': {'nome': 'Alto da Rua XV', 'id': '1...</td>\n",
       "      <td>imovel</td>\n",
       "    </tr>\n",
       "    <tr>\n",
       "      <th>99998</th>\n",
       "      <td>pyzpnWcBITdkjQvHapCj</td>\n",
       "      <td>realties</td>\n",
       "      <td>1</td>\n",
       "      <td>{'bairro': {'nome': 'Parolin', 'id': '1697'}, ...</td>\n",
       "      <td>imovel</td>\n",
       "    </tr>\n",
       "    <tr>\n",
       "      <th>99999</th>\n",
       "      <td>1SzFnmcBITdkjQvHI7J1</td>\n",
       "      <td>realties</td>\n",
       "      <td>1</td>\n",
       "      <td>{'geohash': '6gkzsb4jutqk', 'suite': 3, 'iptu'...</td>\n",
       "      <td>imovel</td>\n",
       "    </tr>\n",
       "  </tbody>\n",
       "</table>\n",
       "<p>149968 rows × 5 columns</p>\n",
       "</div>"
      ],
      "text/plain": [
       "                         _id    _index  _score  \\\n",
       "10      3er7iGcB_HRRL6pGxWnM  realties       1   \n",
       "1000    eer7iGcB_HRRL6pGDml3  realties       1   \n",
       "10000   hOndh2cB_HRRL6pGj-Ij  realties       1   \n",
       "100000  1izFnmcBITdkjQvHI7LE  realties       1   \n",
       "100001  1yzFnmcBITdkjQvHI7Lz  realties       1   \n",
       "100002  2CzFnmcBITdkjQvHJLIt  realties       1   \n",
       "100003  2SzFnmcBITdkjQvHJLJL  realties       1   \n",
       "100004  2izFnmcBITdkjQvHJLKF  realties       1   \n",
       "100005  2yzFnmcBITdkjQvHJLKS  realties       1   \n",
       "100006  3CzFnmcBITdkjQvHJLK2  realties       1   \n",
       "100007  3SzFnmcBITdkjQvHJLLx  realties       1   \n",
       "100008  3izFnmcBITdkjQvHJbIQ  realties       1   \n",
       "100009  3yzFnmcBITdkjQvHJbKQ  realties       1   \n",
       "10001   hundh2cB_HRRL6pGj-Lo  realties       1   \n",
       "100010  4CzFnmcBITdkjQvHJbKR  realties       1   \n",
       "100011  4SzFnmcBITdkjQvHJbLY  realties       1   \n",
       "100012  4izFnmcBITdkjQvHJrKC  realties       1   \n",
       "100013  qCzFnmcBITdkjQvHC7IU  realties       1   \n",
       "100014  qSzFnmcBITdkjQvHC7JN  realties       1   \n",
       "100015  qizFnmcBITdkjQvHC7J9  realties       1   \n",
       "100016  qyzFnmcBITdkjQvHC7LA  realties       1   \n",
       "100017  rCzFnmcBITdkjQvHDLJD  realties       1   \n",
       "100018  rSzFnmcBITdkjQvHDLJR  realties       1   \n",
       "100019  rizFnmcBITdkjQvHDLK7  realties       1   \n",
       "10002   h-ndh2cB_HRRL6pGkOIl  realties       1   \n",
       "100020  ryzFnmcBITdkjQvHDbLL  realties       1   \n",
       "100021  sCzFnmcBITdkjQvHDrIB  realties       1   \n",
       "100022  sSzFnmcBITdkjQvHDrIm  realties       1   \n",
       "100023  sizFnmcBITdkjQvHDrJ0  realties       1   \n",
       "100024  syzFnmcBITdkjQvHDrLj  realties       1   \n",
       "...                      ...       ...     ...   \n",
       "99972   vyzpnWcBITdkjQvHfpA_  realties       1   \n",
       "99973   wCzpnWcBITdkjQvHfpDP  realties       1   \n",
       "99974   rizpnWcBITdkjQvHcJAi  realties       1   \n",
       "99975   ryzpnWcBITdkjQvHcZBh  realties       1   \n",
       "99976   sCzpnWcBITdkjQvHcZC9  realties       1   \n",
       "99977   sSzpnWcBITdkjQvHcpBg  realties       1   \n",
       "99978   myzpnWcBITdkjQvHYJA8  realties       1   \n",
       "99979   nCzpnWcBITdkjQvHYZAo  realties       1   \n",
       "9998    kOndh2cB_HRRL6pGpOKL  realties       1   \n",
       "99980   nSzpnWcBITdkjQvHYZBb  realties       1   \n",
       "99981   nizpnWcBITdkjQvHYpAE  realties       1   \n",
       "99982   nyzpnWcBITdkjQvHY5CI  realties       1   \n",
       "99983   lyzpnWcBITdkjQvHXZAG  realties       1   \n",
       "99984   mCzpnWcBITdkjQvHXpAo  realties       1   \n",
       "99985   mSzpnWcBITdkjQvHXpDM  realties       1   \n",
       "99986   mizpnWcBITdkjQvHX5An  realties       1   \n",
       "99987   uCzpnWcBITdkjQvHeJAM  realties       1   \n",
       "99988   uSzpnWcBITdkjQvHepBr  realties       1   \n",
       "99989   uizpnWcBITdkjQvHepCF  realties       1   \n",
       "9999    kendh2cB_HRRL6pGpOKO  realties       1   \n",
       "99990   uyzpnWcBITdkjQvHe5BT  realties       1   \n",
       "99991   oCzpnWcBITdkjQvHZJBu  realties       1   \n",
       "99992   oSzpnWcBITdkjQvHZZD1  realties       1   \n",
       "99993   oizpnWcBITdkjQvHZ5AT  realties       1   \n",
       "99994   oyzpnWcBITdkjQvHZ5CW  realties       1   \n",
       "99995   pCzpnWcBITdkjQvHaJB5  realties       1   \n",
       "99996   pSzpnWcBITdkjQvHaZAN  realties       1   \n",
       "99997   pizpnWcBITdkjQvHapCL  realties       1   \n",
       "99998   pyzpnWcBITdkjQvHapCj  realties       1   \n",
       "99999   1SzFnmcBITdkjQvHI7J1  realties       1   \n",
       "\n",
       "                                                  _source   _type  \n",
       "10      {'endereco': 'Butiatuvinha, Curitiba', 'cidade...  imovel  \n",
       "1000    {'endereco': 'R. Gen. José Ferreira de Barros,...  imovel  \n",
       "10000   {'cidade_uf': 'curitiba_pr', 'area_privativa':...  imovel  \n",
       "100000  {'geohash': '6gkznmm6gbub', 'suite': 3, 'iptu'...  imovel  \n",
       "100001  {'geohash': '6gkzrep7ezsk', 'suite': 0, 'iptu'...  imovel  \n",
       "100002  {'geohash': '6gkzn2g603ub', 'suite': 1, 'iptu'...  imovel  \n",
       "100003  {'geohash': '6gkzkvwhm1u0', 'suite': 4, 'iptu'...  imovel  \n",
       "100004  {'geohash': '6gkzwz5mtppj', 'suite': 1, 'iptu'...  imovel  \n",
       "100005  {'geohash': '6gkzkvwhm1u0', 'suite': 5, 'iptu'...  imovel  \n",
       "100006  {'geohash': '6gkzjec3x7dx', 'suite': 4, 'iptu'...  imovel  \n",
       "100007  {'geohash': '6gkznmm6gbub', 'suite': 3, 'iptu'...  imovel  \n",
       "100008  {'geohash': '6gkzm0s46pdm', 'suite': 2, 'iptu'...  imovel  \n",
       "100009  {'descricao': 'Apartamento padrão Plaenge, loc...  imovel  \n",
       "10001   {'tipo_negocio': 'Locação', 'cidade_uf': 'curi...  imovel  \n",
       "100010  {'descricao': 'O bairro Juvevê está localizado...  imovel  \n",
       "100011  {'geohash': '6gkzq31bx47j', 'suite': 2, 'iptu'...  imovel  \n",
       "100012  {'geohash': '6gkzjs2n6b3u', 'suite': 4, 'iptu'...  imovel  \n",
       "100013  {'geohash': '6gkzn13e5s7u', 'suite': 3, 'iptu'...  imovel  \n",
       "100014  {'geohash': '6gkzq1wwm1ve', 'suite': 4, 'iptu'...  imovel  \n",
       "100015  {'geohash': '6gkzq1wwm1ve', 'suite': 4, 'iptu'...  imovel  \n",
       "100016  {'geohash': '6gkzt709qxur', 'suite': 4, 'iptu'...  imovel  \n",
       "100017  {'descricao': 'LOJA NOVA PRONTA PARA USO, AMPL...  imovel  \n",
       "100018  {'descricao': 'Excelente casa em condomínio fe...  imovel  \n",
       "100019  {'geohash': '6gmp2q46nh6p', 'suite': 1, 'iptu'...  imovel  \n",
       "10002   {'tipo_negocio': 'Locação', 'cidade_uf': 'curi...  imovel  \n",
       "100020  {'suite': 0, 'tipo_negocio': 'Venda', 'cidade_...  imovel  \n",
       "100021  {'suite': 4, 'tipo_negocio': 'Venda', 'cidade_...  imovel  \n",
       "100022  {'suite': 0, 'tipo_negocio': 'Venda', 'cidade_...  imovel  \n",
       "100023  {'descricao': 'Jose whatsCasa com 390 m² de co...  imovel  \n",
       "100024  {'geohash': '6gkzm0e7t5de', 'suite': 3, 'iptu'...  imovel  \n",
       "...                                                   ...     ...  \n",
       "99972   {'cidade_uf': 'curitiba_pr', 'tipo_negocio': '...  imovel  \n",
       "99973   {'iptu': 0, 'cidade_uf': 'curitiba_pr', 'tipo_...  imovel  \n",
       "99974   {'cidade_uf': 'curitiba_pr', 'scraping': {'spi...  imovel  \n",
       "99975   {'iptu': 70, 'cidade_uf': 'curitiba_pr', 'tipo...  imovel  \n",
       "99976   {'bairro': {'nome': 'Centro', 'id': '1679'}, '...  imovel  \n",
       "99977   {'iptu': 59, 'cidade_uf': 'curitiba_pr', 'tipo...  imovel  \n",
       "99978   {'bairro': {'nome': 'Jardim Botânico', 'id': '...  imovel  \n",
       "99979   {'bairro': {'nome': 'Cristo Rei', 'id': '1600'...  imovel  \n",
       "9998    {'tipo_negocio': 'Locação', 'cidade_uf': 'curi...  imovel  \n",
       "99980   {'bairro': {'nome': 'São Francisco', 'id': '16...  imovel  \n",
       "99981   {'bairro': {'nome': 'São Francisco', 'id': '16...  imovel  \n",
       "99982   {'bairro': {'nome': 'Cidade Industrial', 'id':...  imovel  \n",
       "99983   {'iptu': 43, 'cidade_uf': 'curitiba_pr', 'tipo...  imovel  \n",
       "99984   {'iptu': 1000, 'cidade_uf': 'curitiba_pr', 'ti...  imovel  \n",
       "99985   {'cidade_uf': 'curitiba_pr', 'tipo_negocio': '...  imovel  \n",
       "99986   {'iptu': 43, 'cidade_uf': 'curitiba_pr', 'tipo...  imovel  \n",
       "99987   {'bairro': {'nome': 'Campo Comprido', 'id': '1...  imovel  \n",
       "99988   {'iptu': 157, 'cidade_uf': 'curitiba_pr', 'tip...  imovel  \n",
       "99989   {'bairro': {'nome': 'Boqueirão', 'id': '1666'}...  imovel  \n",
       "9999    {'tipo_negocio': 'Locação', 'cidade_uf': 'curi...  imovel  \n",
       "99990   {'bairro': {'nome': 'Centro', 'id': '1679'}, '...  imovel  \n",
       "99991   {'bairro': {'nome': 'Cabral', 'id': '1651'}, '...  imovel  \n",
       "99992   {'iptu': 33, 'cidade_uf': 'curitiba_pr', 'tipo...  imovel  \n",
       "99993   {'cidade_uf': 'curitiba_pr', 'scraping': {'spi...  imovel  \n",
       "99994   {'iptu': 0, 'cidade_uf': 'curitiba_pr', 'tipo_...  imovel  \n",
       "99995   {'bairro': {'nome': 'Pinheirinho', 'id': '1719...  imovel  \n",
       "99996   {'bairro': {'nome': 'Cajuru', 'id': '1706'}, '...  imovel  \n",
       "99997   {'bairro': {'nome': 'Alto da Rua XV', 'id': '1...  imovel  \n",
       "99998   {'bairro': {'nome': 'Parolin', 'id': '1697'}, ...  imovel  \n",
       "99999   {'geohash': '6gkzsb4jutqk', 'suite': 3, 'iptu'...  imovel  \n",
       "\n",
       "[149968 rows x 5 columns]"
      ]
     },
     "execution_count": 3,
     "metadata": {},
     "output_type": "execute_result"
    }
   ],
   "source": [
    "df"
   ]
  },
  {
   "cell_type": "code",
   "execution_count": 4,
   "metadata": {},
   "outputs": [
    {
     "data": {
      "text/plain": [
       "(149968, 5)"
      ]
     },
     "execution_count": 4,
     "metadata": {},
     "output_type": "execute_result"
    }
   ],
   "source": [
    "df.shape"
   ]
  },
  {
   "cell_type": "code",
   "execution_count": 5,
   "metadata": {},
   "outputs": [
    {
     "data": {
      "text/html": [
       "<div>\n",
       "<style scoped>\n",
       "    .dataframe tbody tr th:only-of-type {\n",
       "        vertical-align: middle;\n",
       "    }\n",
       "\n",
       "    .dataframe tbody tr th {\n",
       "        vertical-align: top;\n",
       "    }\n",
       "\n",
       "    .dataframe thead th {\n",
       "        text-align: right;\n",
       "    }\n",
       "</style>\n",
       "<table border=\"1\" class=\"dataframe\">\n",
       "  <thead>\n",
       "    <tr style=\"text-align: right;\">\n",
       "      <th></th>\n",
       "      <th>_id</th>\n",
       "      <th>_index</th>\n",
       "      <th>_score</th>\n",
       "      <th>_source</th>\n",
       "      <th>_type</th>\n",
       "    </tr>\n",
       "  </thead>\n",
       "  <tbody>\n",
       "  </tbody>\n",
       "</table>\n",
       "</div>"
      ],
      "text/plain": [
       "Empty DataFrame\n",
       "Columns: [_id, _index, _score, _source, _type]\n",
       "Index: []"
      ]
     },
     "execution_count": 5,
     "metadata": {},
     "output_type": "execute_result"
    }
   ],
   "source": [
    "df[df[['_id']].duplicated()]"
   ]
  },
  {
   "cell_type": "code",
   "execution_count": 6,
   "metadata": {},
   "outputs": [],
   "source": [
    "## Select columns by follow Data Sprints Doc ##\n",
    "null_col = df_src.columns[df_src.isna().sum() > 100000]\n",
    "df_selected = df_src.drop(null_col, axis=1)"
   ]
  },
  {
   "cell_type": "code",
   "execution_count": 7,
   "metadata": {
    "scrolled": false
   },
   "outputs": [
    {
     "name": "stderr",
     "output_type": "stream",
     "text": [
      "/root/.local/lib/python3.5/site-packages/scipy/stats/stats.py:1713: FutureWarning: Using a non-tuple sequence for multidimensional indexing is deprecated; use `arr[tuple(seq)]` instead of `arr[seq]`. In the future this will be interpreted as an array index, `arr[np.array(seq)]`, which will result either in an error or a different result.\n",
      "  return np.add.reduce(sorted[indexer] * weights, axis=axis) / sumval\n"
     ]
    },
    {
     "data": {
      "text/plain": [
       "Text(0.5, 1.0, 'Value Distribution - Before Cut Outlier')"
      ]
     },
     "execution_count": 7,
     "metadata": {},
     "output_type": "execute_result"
    },
    {
     "data": {
      "image/png": "[encoded data removed]",
      "text/plain": [
       "<Figure size 432x288 with 1 Axes>"
      ]
     },
     "metadata": {
      "needs_background": "light"
     },
     "output_type": "display_data"
    }
   ],
   "source": [
    "## Plot Value Distribution\n",
    "sns.distplot(df_selected['valor'].dropna(), fit=norm).set_title(\"Value Distribution - Before Cut Outlier\")"
   ]
  },
  {
   "cell_type": "markdown",
   "metadata": {},
   "source": [
    "### interesting\n",
    "condominium <br/>\n",
    "iptu <br/>"
   ]
  },
  {
   "cell_type": "code",
   "execution_count": 8,
   "metadata": {},
   "outputs": [],
   "source": [
    "## Translate Columns Name ##\n",
    "df_selected.rename(columns={\"anunciante.id\": \"advertiser.id\", \\\n",
    "                            \"anunciante.nome\": \"advertiser.name\", \\\n",
    "                            \"bairro.id\": \"neighborhood.id\", \\\n",
    "                            \"bairro.nome\": \"neighborhood.name\", \\\n",
    "                            \"banheiro\": \"bathroom\", \\\n",
    "                            \"cidade.full_name\": \"city.full_name\", \\\n",
    "                            \"cidade.short_name\": \"city.short_name\", \\\n",
    "                            \"cidade_uf\": \"city_uf\", \\\n",
    "                            \"codigo\": \"code\", \\\n",
    "                            \"condominio\": \"condominium\", \\\n",
    "                            \"data_inclusao\": \"date_inclusion\", \\\n",
    "                            \"descricao\": \"description\", \\\n",
    "                            \"endereco\": \"address\", \\\n",
    "                            \"tipo_negocio\": \"business_type\", \\\n",
    "                            \"garagem\": \"garage\", \\\n",
    "                            \"lista_fotos\": \"photolist\", \\\n",
    "                            \"opcionais\": \"optional\", \\\n",
    "                            \"quarto\": \"bedroom\", \\\n",
    "                            \"tipo_imovel\": \"motion_type\", \\\n",
    "                            \"valor\": \"value\", \\\n",
    "                            \"zoneamento.id\": \"zoning.id\", \\\n",
    "                            \"zoneamento.nome\": \"zoning.name\", \\\n",
    "                            \"zoneamento.sigla\": \"zoning.initials\", \\\n",
    "                            \"finalidade\": \"goal\"\n",
    "                           }, inplace=True)"
   ]
  },
  {
   "cell_type": "markdown",
   "metadata": {},
   "source": [
    "# Deal with outlier"
   ]
  },
  {
   "cell_type": "code",
   "execution_count": 9,
   "metadata": {},
   "outputs": [],
   "source": [
    "df_selected['z_value'] = np.abs((df_selected['value'] - df_selected['value'].mean())/df_selected['value'].std(ddof=0))"
   ]
  },
  {
   "cell_type": "code",
   "execution_count": 10,
   "metadata": {},
   "outputs": [],
   "source": [
    "df_wo = df_selected[df_selected['z_value'] < 1]"
   ]
  },
  {
   "cell_type": "code",
   "execution_count": 11,
   "metadata": {
    "scrolled": true
   },
   "outputs": [
    {
     "data": {
      "text/plain": [
       "advertiser.id            1542\n",
       "advertiser.name          1542\n",
       "area_total              41453\n",
       "area_util               26187\n",
       "neighborhood.id           966\n",
       "neighborhood.name         966\n",
       "bathroom                35363\n",
       "city.full_name              0\n",
       "city.short_name             0\n",
       "city_uf                     0\n",
       "code                    79261\n",
       "condominium             36909\n",
       "date_inclusion              0\n",
       "default                     0\n",
       "description                 0\n",
       "address                 28766\n",
       "error                       0\n",
       "goal                        0\n",
       "garage                  19626\n",
       "geohash                 28791\n",
       "geometry.coordinates    28791\n",
       "geometry.type           28791\n",
       "iptu                    49408\n",
       "isparticular                0\n",
       "isportal                    0\n",
       "latitude                28754\n",
       "photolist                4158\n",
       "longitude               28754\n",
       "optional                    0\n",
       "bedroom                 11934\n",
       "scraping.spider_name        0\n",
       "status                      0\n",
       "suite                   51020\n",
       "motion_type                 0\n",
       "business_type               0\n",
       "title                       0\n",
       "uf                          0\n",
       "url                         0\n",
       "value                       0\n",
       "zoning.id               35947\n",
       "zoning.name             35947\n",
       "zoning.initials         35947\n",
       "z_value                     0\n",
       "dtype: int64"
      ]
     },
     "execution_count": 11,
     "metadata": {},
     "output_type": "execute_result"
    }
   ],
   "source": [
    "df_wo.isnull().sum()"
   ]
  },
  {
   "cell_type": "code",
   "execution_count": 12,
   "metadata": {
    "scrolled": true
   },
   "outputs": [],
   "source": [
    "value_dis_plot = df_wo.groupby(['value'], as_index=False)['value'].agg({'freq':'count'})"
   ]
  },
  {
   "cell_type": "code",
   "execution_count": 13,
   "metadata": {
    "scrolled": false
   },
   "outputs": [
    {
     "data": {
      "text/plain": [
       "Text(0.5, 1.0, 'Value Distribution - After Cut Outlier')"
      ]
     },
     "execution_count": 13,
     "metadata": {},
     "output_type": "execute_result"
    },
    {
     "data": {
      "image/png": "[encoded data removed]",
      "text/plain": [
       "<Figure size 432x288 with 1 Axes>"
      ]
     },
     "metadata": {
      "needs_background": "light"
     },
     "output_type": "display_data"
    }
   ],
   "source": [
    "## Plot Value Distribution\n",
    "sns.distplot(df_wo['value'], fit=norm).set_title(\"Value Distribution - After Cut Outlier\")"
   ]
  },
  {
   "cell_type": "markdown",
   "metadata": {},
   "source": [
    "# Duplicate Alert"
   ]
  },
  {
   "cell_type": "code",
   "execution_count": 14,
   "metadata": {},
   "outputs": [
    {
     "data": {
      "text/plain": [
       "Index(['advertiser.id', 'advertiser.name', 'area_total', 'area_util',\n",
       "       'neighborhood.id', 'neighborhood.name', 'bathroom', 'city.full_name',\n",
       "       'city.short_name', 'city_uf', 'code', 'condominium', 'date_inclusion',\n",
       "       'default', 'description', 'address', 'error', 'goal', 'garage',\n",
       "       'geohash', 'geometry.coordinates', 'geometry.type', 'iptu',\n",
       "       'isparticular', 'isportal', 'latitude', 'photolist', 'longitude',\n",
       "       'optional', 'bedroom', 'scraping.spider_name', 'status', 'suite',\n",
       "       'motion_type', 'business_type', 'title', 'uf', 'url', 'value',\n",
       "       'zoning.id', 'zoning.name', 'zoning.initials', 'z_value'],\n",
       "      dtype='object')"
      ]
     },
     "execution_count": 14,
     "metadata": {},
     "output_type": "execute_result"
    }
   ],
   "source": [
    "df_wo.columns"
   ]
  },
  {
   "cell_type": "code",
   "execution_count": 15,
   "metadata": {
    "scrolled": true
   },
   "outputs": [
    {
     "name": "stdout",
     "output_type": "stream",
     "text": [
      "<class 'pandas.core.frame.DataFrame'>\n",
      "Int64Index: 139582 entries, 0 to 149967\n",
      "Data columns (total 43 columns):\n",
      "advertiser.id           138040 non-null object\n",
      "advertiser.name         138040 non-null object\n",
      "area_total              98129 non-null float64\n",
      "area_util               113395 non-null float64\n",
      "neighborhood.id         138616 non-null object\n",
      "neighborhood.name       138616 non-null object\n",
      "bathroom                104219 non-null float64\n",
      "city.full_name          139582 non-null object\n",
      "city.short_name         139582 non-null object\n",
      "city_uf                 139582 non-null object\n",
      "code                    60321 non-null object\n",
      "condominium             102673 non-null float64\n",
      "date_inclusion          139582 non-null object\n",
      "default                 139582 non-null object\n",
      "description             139582 non-null object\n",
      "address                 110816 non-null object\n",
      "error                   139582 non-null object\n",
      "goal                    139582 non-null object\n",
      "garage                  119956 non-null float64\n",
      "geohash                 110791 non-null object\n",
      "geometry.coordinates    110791 non-null object\n",
      "geometry.type           110791 non-null object\n",
      "iptu                    90174 non-null float64\n",
      "isparticular            139582 non-null bool\n",
      "isportal                139582 non-null bool\n",
      "latitude                110828 non-null float64\n",
      "photolist               135424 non-null object\n",
      "longitude               110828 non-null float64\n",
      "optional                139582 non-null object\n",
      "bedroom                 127648 non-null float64\n",
      "scraping.spider_name    139582 non-null object\n",
      "status                  139582 non-null int64\n",
      "suite                   88562 non-null float64\n",
      "motion_type             139582 non-null object\n",
      "business_type           139582 non-null object\n",
      "title                   139582 non-null object\n",
      "uf                      139582 non-null object\n",
      "url                     139582 non-null object\n",
      "value                   139582 non-null float64\n",
      "zoning.id               103635 non-null object\n",
      "zoning.name             103635 non-null object\n",
      "zoning.initials         103635 non-null object\n",
      "z_value                 139582 non-null float64\n",
      "dtypes: bool(2), float64(12), int64(1), object(28)\n",
      "memory usage: 45.0+ MB\n"
     ]
    }
   ],
   "source": [
    "df_wo.info()"
   ]
  },
  {
   "cell_type": "code",
   "execution_count": 16,
   "metadata": {},
   "outputs": [
    {
     "ename": "NameError",
     "evalue": "name 'default' is not defined",
     "output_type": "error",
     "traceback": [
      "\u001b[0;31m---------------------------------------------------------------------------\u001b[0m",
      "\u001b[0;31mNameError\u001b[0m                                 Traceback (most recent call last)",
      "\u001b[0;32m<ipython-input-16-0570b89aa139>\u001b[0m in \u001b[0;36m<module>\u001b[0;34m\u001b[0m\n\u001b[0;32m----> 1\u001b[0;31m \u001b[0mdefault\u001b[0m\u001b[0;34m\u001b[0m\u001b[0m\n\u001b[0m\u001b[1;32m      2\u001b[0m \u001b[0merror\u001b[0m\u001b[0;34m\u001b[0m\u001b[0m\n\u001b[1;32m      3\u001b[0m \u001b[0mgoal\u001b[0m\u001b[0;34m\u001b[0m\u001b[0m\n\u001b[1;32m      4\u001b[0m \u001b[0mgeometry\u001b[0m\u001b[0;34m.\u001b[0m\u001b[0mcoordinates\u001b[0m\u001b[0;34m\u001b[0m\u001b[0m\n\u001b[1;32m      5\u001b[0m \u001b[0mphotolist\u001b[0m\u001b[0;34m\u001b[0m\u001b[0m\n",
      "\u001b[0;31mNameError\u001b[0m: name 'default' is not defined"
     ]
    }
   ],
   "source": [
    "default\n",
    "error\n",
    "goal\n",
    "geometry.coordinates\n",
    "photolist\n",
    "optional\n",
    "motion_type"
   ]
  },
  {
   "cell_type": "code",
   "execution_count": null,
   "metadata": {
    "scrolled": true
   },
   "outputs": [],
   "source": [
    "df_wo['zoning.initials']"
   ]
  },
  {
   "cell_type": "code",
   "execution_count": null,
   "metadata": {
    "scrolled": true
   },
   "outputs": [],
   "source": [
    "df_dup = df_wo[df_wo.duplicated(['advertiser.id', 'advertiser.name', 'area_total', 'area_util',\n",
    "       'neighborhood.id', 'neighborhood.name', 'bathroom', 'city.full_name',\n",
    "       'city.short_name', 'city_uf', 'code', 'condominium', 'date_inclusion',\n",
    "       'description', 'address', 'garage',\n",
    "       'geohash', 'geometry.type', 'iptu',\n",
    "       'isparticular', 'isportal', 'latitude', 'longitude',\n",
    "       'bedroom', 'scraping.spider_name', 'status', 'suite',\n",
    "       'business_type', 'title', 'uf', 'url', 'value',\n",
    "       'zoning.id', 'zoning.name', 'zoning.initials', 'z_value'])]"
   ]
  },
  {
   "cell_type": "code",
   "execution_count": null,
   "metadata": {
    "scrolled": false
   },
   "outputs": [],
   "source": [
    "df_dup"
   ]
  },
  {
   "cell_type": "markdown",
   "metadata": {},
   "source": [
    "# Value Analysis"
   ]
  },
  {
   "cell_type": "code",
   "execution_count": null,
   "metadata": {
    "scrolled": true
   },
   "outputs": [],
   "source": [
    "print([f for f in df_wo['neighborhood.name'].unique()])"
   ]
  },
  {
   "cell_type": "code",
   "execution_count": null,
   "metadata": {
    "scrolled": true
   },
   "outputs": [],
   "source": [
    "df_wo['neighborhood.name']"
   ]
  },
  {
   "cell_type": "markdown",
   "metadata": {},
   "source": [
    "## Top 20 High price neighborhood"
   ]
  },
  {
   "cell_type": "code",
   "execution_count": null,
   "metadata": {},
   "outputs": [],
   "source": [
    "top_mean_price = df_wo[['neighborhood.name', 'value']].groupby(['neighborhood.name'], as_index=False).mean()"
   ]
  },
  {
   "cell_type": "code",
   "execution_count": null,
   "metadata": {},
   "outputs": [],
   "source": [
    "top_mean_price.sort_values(by=('value'), ascending=False).head(20)"
   ]
  },
  {
   "cell_type": "markdown",
   "metadata": {},
   "source": [
    "top_mean_price.sort_values(by=('value'), ascending=False).head(20)"
   ]
  },
  {
   "cell_type": "code",
   "execution_count": null,
   "metadata": {
    "scrolled": false
   },
   "outputs": [],
   "source": [
    "plt.figure(figsize=(10, 10))\n",
    "ax = sns.barplot(x=\"value\", y=\"neighborhood.name\", data=top_mean_price.sort_values(by=('value'), ascending=False).head(20))"
   ]
  },
  {
   "cell_type": "markdown",
   "metadata": {},
   "source": [
    "## Map of the Top 20 High Price neighborhood"
   ]
  },
  {
   "cell_type": "markdown",
   "metadata": {},
   "source": [
    "## Distribution Top 10 price neighborhood"
   ]
  },
  {
   "cell_type": "code",
   "execution_count": null,
   "metadata": {},
   "outputs": [],
   "source": [
    "## top price neighborhood name ##\n",
    "top_10_name = top_mean_price.sort_values(by=('value'), ascending=False).head(10)['neighborhood.name'].unique()"
   ]
  },
  {
   "cell_type": "code",
   "execution_count": null,
   "metadata": {},
   "outputs": [],
   "source": [
    "list(top_10_name)"
   ]
  },
  {
   "cell_type": "code",
   "execution_count": null,
   "metadata": {},
   "outputs": [],
   "source": [
    "df_top10_dist = df_wo[df_wo['neighborhood.name'].isin(top_10_name)]"
   ]
  },
  {
   "cell_type": "code",
   "execution_count": null,
   "metadata": {},
   "outputs": [],
   "source": [
    "plt.figure(figsize=(10, 10))\n",
    "sns.boxplot(data=df_top10_dist, x=\"value\", y=\"neighborhood.name\")"
   ]
  },
  {
   "cell_type": "markdown",
   "metadata": {},
   "source": [
    "## Bedrooms and Price Analysis"
   ]
  },
  {
   "cell_type": "markdown",
   "metadata": {},
   "source": [
    "### Cleaning Bedrooms"
   ]
  },
  {
   "cell_type": "code",
   "execution_count": null,
   "metadata": {
    "scrolled": true
   },
   "outputs": [],
   "source": [
    "df_wo[['bedroom']]"
   ]
  },
  {
   "cell_type": "code",
   "execution_count": null,
   "metadata": {
    "scrolled": false
   },
   "outputs": [],
   "source": [
    "bedroom_price = df_wo[['bedroom', 'value']].groupby(['bedroom'], as_index=False).mean()\n",
    "plt.figure(figsize=(20, 10))\n",
    "ax = sns.barplot(x=\"bedroom\", y=\"value\", data=bedroom_price.sort_values(by=('value'), ascending=False).head(30))"
   ]
  },
  {
   "cell_type": "code",
   "execution_count": null,
   "metadata": {},
   "outputs": [],
   "source": [
    "## Notes ##\n",
    "# have outlier in bedrooms"
   ]
  },
  {
   "cell_type": "markdown",
   "metadata": {},
   "source": [
    "## Garage and Price Analysis"
   ]
  },
  {
   "cell_type": "code",
   "execution_count": null,
   "metadata": {},
   "outputs": [],
   "source": [
    "garage_price = df_wo[['garage', 'value']].groupby(['garage'], as_index=False).mean()\n",
    "plt.figure(figsize=(20, 10))\n",
    "ax = sns.barplot(x=\"garage\", y=\"value\", data=garage_price.sort_values(by=('value'), ascending=False).head(30))"
   ]
  },
  {
   "cell_type": "markdown",
   "metadata": {},
   "source": [
    "## Bathroom and Price Analysis"
   ]
  },
  {
   "cell_type": "code",
   "execution_count": null,
   "metadata": {},
   "outputs": [],
   "source": [
    "bathroom_price = df_wo[['bathroom', 'value']].groupby(['bathroom'], as_index=False).mean()\n",
    "plt.figure(figsize=(20, 10))\n",
    "ax = sns.barplot(x=\"bathroom\", y=\"value\", data=bathroom_price.sort_values(by=('value'), ascending=False).head(30))"
   ]
  },
  {
   "cell_type": "markdown",
   "metadata": {},
   "source": [
    "## Suite and Price Analysis"
   ]
  },
  {
   "cell_type": "code",
   "execution_count": null,
   "metadata": {
    "scrolled": true
   },
   "outputs": [],
   "source": [
    "suite_price = df_wo[['suite', 'value']].groupby(['suite'], as_index=False).mean()\n",
    "plt.figure(figsize=(20, 10))\n",
    "ax = sns.barplot(x=\"suite\", y=\"value\", data=suite_price.sort_values(by=('value'), ascending=False).head(30))"
   ]
  },
  {
   "cell_type": "markdown",
   "metadata": {},
   "source": [
    "## Area and Price Analysis"
   ]
  },
  {
   "cell_type": "code",
   "execution_count": null,
   "metadata": {},
   "outputs": [],
   "source": [
    "area_total_price = df_wo[['area_total', 'value']].groupby(['area_total'], as_index=False).mean()\n",
    "plt.figure(figsize=(20, 10))\n",
    "ax = sns.barplot(x=\"area_total\", y=\"value\", data=area_total_price.sort_values(by=('value'), ascending=False).head(20))"
   ]
  },
  {
   "cell_type": "markdown",
   "metadata": {},
   "source": [
    "### Number\n",
    "area_total -\n",
    "area_util -\n",
    "bathroom -\n",
    "garage -\n",
    "bedroom -\n",
    "suite"
   ]
  },
  {
   "cell_type": "code",
   "execution_count": null,
   "metadata": {},
   "outputs": [],
   "source": [
    "df_est_prop = df_wo[['value','area_total', 'area_util', 'bathroom', 'garage', 'bedroom', 'suite']]"
   ]
  },
  {
   "cell_type": "code",
   "execution_count": null,
   "metadata": {},
   "outputs": [],
   "source": [
    "df_est_prop_corr = df_est_prop.corr()"
   ]
  },
  {
   "cell_type": "code",
   "execution_count": null,
   "metadata": {},
   "outputs": [],
   "source": [
    "plt.figure(figsize=(10, 10))\n",
    "pp = sns.heatmap(df_est_prop_corr, linewidths=.2, cmap=\"YlGnBu\", annot = True)"
   ]
  },
  {
   "cell_type": "code",
   "execution_count": null,
   "metadata": {},
   "outputs": [],
   "source": []
  }
 ],
 "metadata": {
  "kernelspec": {
   "display_name": "Python 3",
   "language": "python",
   "name": "python3"
  },
  "language_info": {
   "codemirror_mode": {
    "name": "ipython",
    "version": 3
   },
   "file_extension": ".py",
   "mimetype": "text/x-python",
   "name": "python",
   "nbconvert_exporter": "python",
   "pygments_lexer": "ipython3",
   "version": "3.5.2"
  }
 },
 "nbformat": 4,
 "nbformat_minor": 2
}
