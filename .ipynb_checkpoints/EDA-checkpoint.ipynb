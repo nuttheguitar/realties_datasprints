{
 "cells": [
  {
   "cell_type": "code",
   "execution_count": 1,
   "metadata": {},
   "outputs": [],
   "source": [
    "import json  \n",
    "import pandas as pd  \n",
    "from pandas.io.json import json_normalize  "
   ]
  },
  {
   "cell_type": "code",
   "execution_count": null,
   "metadata": {},
   "outputs": [],
   "source": []
  },
  {
   "cell_type": "code",
   "execution_count": null,
   "metadata": {},
   "outputs": [],
   "source": []
  },
  {
   "cell_type": "code",
   "execution_count": 2,
   "metadata": {},
   "outputs": [],
   "source": [
    "raw_data = pd.read_json('./realties.json', lines=True, orient='columns')"
   ]
  },
  {
   "cell_type": "code",
   "execution_count": 3,
   "metadata": {},
   "outputs": [
    {
     "data": {
      "text/html": [
       "<div>\n",
       "<style scoped>\n",
       "    .dataframe tbody tr th:only-of-type {\n",
       "        vertical-align: middle;\n",
       "    }\n",
       "\n",
       "    .dataframe tbody tr th {\n",
       "        vertical-align: top;\n",
       "    }\n",
       "\n",
       "    .dataframe thead th {\n",
       "        text-align: right;\n",
       "    }\n",
       "</style>\n",
       "<table border=\"1\" class=\"dataframe\">\n",
       "  <thead>\n",
       "    <tr style=\"text-align: right;\">\n",
       "      <th></th>\n",
       "      <th>_id</th>\n",
       "      <th>_index</th>\n",
       "      <th>_score</th>\n",
       "      <th>_source</th>\n",
       "      <th>_type</th>\n",
       "    </tr>\n",
       "  </thead>\n",
       "  <tbody>\n",
       "    <tr>\n",
       "      <th>0</th>\n",
       "      <td>{'2': 'LOr6iGcB_HRRL6pG3mnW', '3': 'Ler6iGcB_H...</td>\n",
       "      <td>{'2': 'realties', '3': 'realties', '7': 'realt...</td>\n",
       "      <td>{'2': 1, '3': 1, '7': 1, '8': 1, '9': 1, '10':...</td>\n",
       "      <td>{'2': {'error': [], 'uf': 'PR', 'longitude': -...</td>\n",
       "      <td>{'2': 'imovel', '3': 'imovel', '7': 'imovel', ...</td>\n",
       "    </tr>\n",
       "  </tbody>\n",
       "</table>\n",
       "</div>"
      ],
      "text/plain": [
       "                                                 _id  \\\n",
       "0  {'2': 'LOr6iGcB_HRRL6pG3mnW', '3': 'Ler6iGcB_H...   \n",
       "\n",
       "                                              _index  \\\n",
       "0  {'2': 'realties', '3': 'realties', '7': 'realt...   \n",
       "\n",
       "                                              _score  \\\n",
       "0  {'2': 1, '3': 1, '7': 1, '8': 1, '9': 1, '10':...   \n",
       "\n",
       "                                             _source  \\\n",
       "0  {'2': {'error': [], 'uf': 'PR', 'longitude': -...   \n",
       "\n",
       "                                               _type  \n",
       "0  {'2': 'imovel', '3': 'imovel', '7': 'imovel', ...  "
      ]
     },
     "execution_count": 3,
     "metadata": {},
     "output_type": "execute_result"
    }
   ],
   "source": [
    "raw_data.head()"
   ]
  },
  {
   "cell_type": "code",
   "execution_count": 5,
   "metadata": {},
   "outputs": [],
   "source": [
    "ids = pd.DataFrame([i for i in raw_data._id])"
   ]
  },
  {
   "cell_type": "code",
   "execution_count": 6,
   "metadata": {},
   "outputs": [
    {
     "data": {
      "text/html": [
       "<div>\n",
       "<style scoped>\n",
       "    .dataframe tbody tr th:only-of-type {\n",
       "        vertical-align: middle;\n",
       "    }\n",
       "\n",
       "    .dataframe tbody tr th {\n",
       "        vertical-align: top;\n",
       "    }\n",
       "\n",
       "    .dataframe thead th {\n",
       "        text-align: right;\n",
       "    }\n",
       "</style>\n",
       "<table border=\"1\" class=\"dataframe\">\n",
       "  <thead>\n",
       "    <tr style=\"text-align: right;\">\n",
       "      <th></th>\n",
       "      <th>10</th>\n",
       "      <th>1000</th>\n",
       "      <th>10000</th>\n",
       "      <th>100000</th>\n",
       "      <th>100001</th>\n",
       "      <th>100002</th>\n",
       "      <th>100003</th>\n",
       "      <th>100004</th>\n",
       "      <th>100005</th>\n",
       "      <th>100006</th>\n",
       "      <th>...</th>\n",
       "      <th>99990</th>\n",
       "      <th>99991</th>\n",
       "      <th>99992</th>\n",
       "      <th>99993</th>\n",
       "      <th>99994</th>\n",
       "      <th>99995</th>\n",
       "      <th>99996</th>\n",
       "      <th>99997</th>\n",
       "      <th>99998</th>\n",
       "      <th>99999</th>\n",
       "    </tr>\n",
       "  </thead>\n",
       "  <tbody>\n",
       "    <tr>\n",
       "      <th>0</th>\n",
       "      <td>3er7iGcB_HRRL6pGxWnM</td>\n",
       "      <td>eer7iGcB_HRRL6pGDml3</td>\n",
       "      <td>hOndh2cB_HRRL6pGj-Ij</td>\n",
       "      <td>1izFnmcBITdkjQvHI7LE</td>\n",
       "      <td>1yzFnmcBITdkjQvHI7Lz</td>\n",
       "      <td>2CzFnmcBITdkjQvHJLIt</td>\n",
       "      <td>2SzFnmcBITdkjQvHJLJL</td>\n",
       "      <td>2izFnmcBITdkjQvHJLKF</td>\n",
       "      <td>2yzFnmcBITdkjQvHJLKS</td>\n",
       "      <td>3CzFnmcBITdkjQvHJLK2</td>\n",
       "      <td>...</td>\n",
       "      <td>uyzpnWcBITdkjQvHe5BT</td>\n",
       "      <td>oCzpnWcBITdkjQvHZJBu</td>\n",
       "      <td>oSzpnWcBITdkjQvHZZD1</td>\n",
       "      <td>oizpnWcBITdkjQvHZ5AT</td>\n",
       "      <td>oyzpnWcBITdkjQvHZ5CW</td>\n",
       "      <td>pCzpnWcBITdkjQvHaJB5</td>\n",
       "      <td>pSzpnWcBITdkjQvHaZAN</td>\n",
       "      <td>pizpnWcBITdkjQvHapCL</td>\n",
       "      <td>pyzpnWcBITdkjQvHapCj</td>\n",
       "      <td>1SzFnmcBITdkjQvHI7J1</td>\n",
       "    </tr>\n",
       "  </tbody>\n",
       "</table>\n",
       "<p>1 rows × 149968 columns</p>\n",
       "</div>"
      ],
      "text/plain": [
       "                     10                  1000                 10000  \\\n",
       "0  3er7iGcB_HRRL6pGxWnM  eer7iGcB_HRRL6pGDml3  hOndh2cB_HRRL6pGj-Ij   \n",
       "\n",
       "                 100000                100001                100002  \\\n",
       "0  1izFnmcBITdkjQvHI7LE  1yzFnmcBITdkjQvHI7Lz  2CzFnmcBITdkjQvHJLIt   \n",
       "\n",
       "                 100003                100004                100005  \\\n",
       "0  2SzFnmcBITdkjQvHJLJL  2izFnmcBITdkjQvHJLKF  2yzFnmcBITdkjQvHJLKS   \n",
       "\n",
       "                 100006          ...                          99990  \\\n",
       "0  3CzFnmcBITdkjQvHJLK2          ...           uyzpnWcBITdkjQvHe5BT   \n",
       "\n",
       "                  99991                 99992                 99993  \\\n",
       "0  oCzpnWcBITdkjQvHZJBu  oSzpnWcBITdkjQvHZZD1  oizpnWcBITdkjQvHZ5AT   \n",
       "\n",
       "                  99994                 99995                 99996  \\\n",
       "0  oyzpnWcBITdkjQvHZ5CW  pCzpnWcBITdkjQvHaJB5  pSzpnWcBITdkjQvHaZAN   \n",
       "\n",
       "                  99997                 99998                 99999  \n",
       "0  pizpnWcBITdkjQvHapCL  pyzpnWcBITdkjQvHapCj  1SzFnmcBITdkjQvHI7J1  \n",
       "\n",
       "[1 rows x 149968 columns]"
      ]
     },
     "execution_count": 6,
     "metadata": {},
     "output_type": "execute_result"
    }
   ],
   "source": [
    "ids"
   ]
  },
  {
   "cell_type": "code",
   "execution_count": null,
   "metadata": {},
   "outputs": [],
   "source": []
  }
 ],
 "metadata": {
  "kernelspec": {
   "display_name": "Python 3",
   "language": "python",
   "name": "python3"
  },
  "language_info": {
   "codemirror_mode": {
    "name": "ipython",
    "version": 3
   },
   "file_extension": ".py",
   "mimetype": "text/x-python",
   "name": "python",
   "nbconvert_exporter": "python",
   "pygments_lexer": "ipython3",
   "version": "3.6.8"
  }
 },
 "nbformat": 4,
 "nbformat_minor": 2
}
