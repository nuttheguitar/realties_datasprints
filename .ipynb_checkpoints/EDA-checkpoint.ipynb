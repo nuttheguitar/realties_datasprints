{
 "cells": [
  {
   "cell_type": "code",
   "execution_count": 1,
   "metadata": {},
   "outputs": [],
   "source": [
    "from pandas.io.json import json_normalize\n",
    "import numpy as np\n",
    "import pandas as pd\n",
    "import seaborn as sns\n",
    "import matplotlib.pyplot as plt\n",
    "from scipy import stats\n",
    "from scipy.stats import norm"
   ]
  },
  {
   "cell_type": "code",
   "execution_count": 2,
   "metadata": {},
   "outputs": [],
   "source": [
    "# Read Json\n",
    "raw_data = pd.read_json('./realties.json', lines=True)\n",
    "df = pd.read_json('./realties.json', lines=False)\n",
    "df_src = json_normalize(data=df['_source'])\n",
    "\n",
    "del raw_data\n",
    "del df"
   ]
  },
  {
   "cell_type": "code",
   "execution_count": 3,
   "metadata": {},
   "outputs": [],
   "source": [
    "## Select columns by follow Data Sprints Doc ##\n",
    "null_col = df_src.columns[df_src.isna().sum() > 100000]\n",
    "df_selected = df_src.drop(null_col, axis=1)\n",
    "\n",
    "del null_col\n",
    "del df_src"
   ]
  },
  {
   "cell_type": "code",
   "execution_count": 4,
   "metadata": {
    "scrolled": false
   },
   "outputs": [
    {
     "name": "stderr",
     "output_type": "stream",
     "text": [
      "/Users/nuttakanwiriyakrieng/anaconda3/lib/python3.6/site-packages/scipy/stats/stats.py:1713: FutureWarning: Using a non-tuple sequence for multidimensional indexing is deprecated; use `arr[tuple(seq)]` instead of `arr[seq]`. In the future this will be interpreted as an array index, `arr[np.array(seq)]`, which will result either in an error or a different result.\n",
      "  return np.add.reduce(sorted[indexer] * weights, axis=axis) / sumval\n"
     ]
    },
    {
     "data": {
      "text/plain": [
       "Text(0.5, 1.0, 'Value Distribution - Before Cut Outlier')"
      ]
     },
     "execution_count": 4,
     "metadata": {},
     "output_type": "execute_result"
    },
    {
     "data": {
      "image/png": "[encoded data removed]",
      "text/plain": [
       "<Figure size 432x288 with 1 Axes>"
      ]
     },
     "metadata": {
      "needs_background": "light"
     },
     "output_type": "display_data"
    }
   ],
   "source": [
    "## Plot Value Distribution\n",
    "sns.distplot(df_selected['valor'].dropna(), fit=norm).set_title(\"Value Distribution - Before Cut Outlier\")"
   ]
  },
  {
   "cell_type": "markdown",
   "metadata": {},
   "source": [
    "# Wrangling"
   ]
  },
  {
   "cell_type": "code",
   "execution_count": 5,
   "metadata": {},
   "outputs": [],
   "source": [
    "## Translate Columns Name ##\n",
    "df_selected.rename(columns={\"anunciante.id\": \"advertiser.id\", \\\n",
    "                            \"anunciante.nome\": \"advertiser.name\", \\\n",
    "                            \"bairro.id\": \"neighborhood.id\", \\\n",
    "                            \"bairro.nome\": \"neighborhood.name\", \\\n",
    "                            \"banheiro\": \"bathroom\", \\\n",
    "                            \"cidade.full_name\": \"city.full_name\", \\\n",
    "                            \"cidade.short_name\": \"city.short_name\", \\\n",
    "                            \"cidade_uf\": \"city_uf\", \\\n",
    "                            \"codigo\": \"code\", \\\n",
    "                            \"condominio\": \"condominium\", \\\n",
    "                            \"data_inclusao\": \"date_inclusion\", \\\n",
    "                            \"descricao\": \"description\", \\\n",
    "                            \"endereco\": \"address\", \\\n",
    "                            \"tipo_negocio\": \"business_type\", \\\n",
    "                            \"garagem\": \"garage\", \\\n",
    "                            \"lista_fotos\": \"photolist\", \\\n",
    "                            \"opcionais\": \"optional\", \\\n",
    "                            \"quarto\": \"bedroom\", \\\n",
    "                            \"tipo_imovel\": \"motion_type\", \\\n",
    "                            \"valor\": \"value\", \\\n",
    "                            \"zoneamento.id\": \"zoning.id\", \\\n",
    "                            \"zoneamento.nome\": \"zoning.name\", \\\n",
    "                            \"zoneamento.sigla\": \"zoning.initials\", \\\n",
    "                            \"finalidade\": \"goal\"\n",
    "                           }, inplace=True)"
   ]
  },
  {
   "cell_type": "code",
   "execution_count": 65,
   "metadata": {
    "scrolled": true
   },
   "outputs": [
    {
     "data": {
      "text/plain": [
       "0         finalidade\n",
       "1         finalidade\n",
       "2         finalidade\n",
       "3         finalidade\n",
       "4         finalidade\n",
       "5         finalidade\n",
       "6                   \n",
       "7                   \n",
       "8         finalidade\n",
       "9         finalidade\n",
       "10        finalidade\n",
       "11                  \n",
       "12                  \n",
       "13                  \n",
       "14                  \n",
       "15        finalidade\n",
       "16        finalidade\n",
       "17        finalidade\n",
       "18        finalidade\n",
       "19        finalidade\n",
       "20        finalidade\n",
       "21        finalidade\n",
       "22        finalidade\n",
       "23        finalidade\n",
       "24                  \n",
       "25        finalidade\n",
       "26        finalidade\n",
       "27        finalidade\n",
       "28        finalidade\n",
       "29        finalidade\n",
       "             ...    \n",
       "149938    finalidade\n",
       "149939    finalidade\n",
       "149940    finalidade\n",
       "149941              \n",
       "149942    finalidade\n",
       "149943    finalidade\n",
       "149944    finalidade\n",
       "149945    finalidade\n",
       "149946    finalidade\n",
       "149947    finalidade\n",
       "149948    finalidade\n",
       "149949              \n",
       "149950    finalidade\n",
       "149951    finalidade\n",
       "149952              \n",
       "149953    finalidade\n",
       "149954    finalidade\n",
       "149955    finalidade\n",
       "149956    finalidade\n",
       "149957    finalidade\n",
       "149958              \n",
       "149959    finalidade\n",
       "149960              \n",
       "149961    finalidade\n",
       "149962              \n",
       "149963    finalidade\n",
       "149964    finalidade\n",
       "149965    finalidade\n",
       "149966    finalidade\n",
       "149967    finalidade\n",
       "Name: default, Length: 149968, dtype: object"
      ]
     },
     "execution_count": 65,
     "metadata": {},
     "output_type": "execute_result"
    }
   ],
   "source": [
    "df_selected[['default']].apply(' ,'.join)"
   ]
  },
  {
   "cell_type": "code",
   "execution_count": 100,
   "metadata": {
    "scrolled": true
   },
   "outputs": [
    {
     "data": {
      "text/plain": [
       "(673,)"
      ]
     },
     "execution_count": 100,
     "metadata": {},
     "output_type": "execute_result"
    }
   ],
   "source": [
    "df_selected['motion_type'].apply(lambda x: sorted(x)).apply(' ,'.join).unique().shape"
   ]
  },
  {
   "cell_type": "code",
   "execution_count": 101,
   "metadata": {
    "scrolled": true
   },
   "outputs": [
    {
     "data": {
      "text/plain": [
       "(673,)"
      ]
     },
     "execution_count": 101,
     "metadata": {},
     "output_type": "execute_result"
    }
   ],
   "source": [
    "df_selected['motion_type'].apply(' ,'.join).unique().shape"
   ]
  },
  {
   "cell_type": "code",
   "execution_count": null,
   "metadata": {},
   "outputs": [],
   "source": [
    "default\n",
    "error** -> have some dict\n",
    "goal** -> name สลับที่\n",
    "geometry.coordinates** -> float found\n",
    "photolist\n",
    "optional** -> have some dict, use json_normalize to extract\n",
    "motion_type** -> name สลับที่"
   ]
  },
  {
   "cell_type": "markdown",
   "metadata": {},
   "source": [
    "# Duplicate Alert"
   ]
  },
  {
   "cell_type": "markdown",
   "metadata": {},
   "source": [
    "1. Who duplicate the data?\n",
    "    A. Popular Advertiser -> advertiser.name?\n",
    "    B. Third Company -> \n",
    "    C. The Company Crawler\n",
    "2. What do these duplicate ads contain? -> Drop it\n",
    "3. When are ads duplicated?\n",
    "4. What happens to duplication, and where(which columns) is in stored?\n",
    "5. Why are the duplicated?"
   ]
  },
  {
   "cell_type": "code",
   "execution_count": 109,
   "metadata": {},
   "outputs": [
    {
     "data": {
      "text/plain": [
       "Index(['advertiser.id', 'advertiser.name', 'area_total', 'area_util',\n",
       "       'neighborhood.id', 'neighborhood.name', 'bathroom', 'city.full_name',\n",
       "       'city.short_name', 'city_uf', 'code', 'condominium', 'date_inclusion',\n",
       "       'default', 'description', 'address', 'error', 'goal', 'garage',\n",
       "       'geohash', 'geometry.coordinates', 'geometry.type', 'iptu',\n",
       "       'isparticular', 'isportal', 'latitude', 'photolist', 'longitude',\n",
       "       'optional', 'bedroom', 'scraping.spider_name', 'status', 'suite',\n",
       "       'motion_type', 'business_type', 'title', 'uf', 'url', 'value',\n",
       "       'zoning.id', 'zoning.name', 'zoning.initials'],\n",
       "      dtype='object')"
      ]
     },
     "execution_count": 109,
     "metadata": {},
     "output_type": "execute_result"
    }
   ],
   "source": [
    "df_selected.columns"
   ]
  },
  {
   "cell_type": "markdown",
   "metadata": {},
   "source": [
    "- Popular Advertiser = advertiser.name\n",
    "- Third Company = \n",
    "- The Company Crawler = scraping.spider_name"
   ]
  },
  {
   "cell_type": "code",
   "execution_count": 134,
   "metadata": {},
   "outputs": [
    {
     "data": {
      "text/plain": [
       "count    1.229670e+05\n",
       "mean     7.415702e+05\n",
       "std      1.261271e+06\n",
       "min      1.000000e+04\n",
       "25%      2.690000e+05\n",
       "50%      4.500000e+05\n",
       "75%      8.001180e+05\n",
       "max      1.111111e+08\n",
       "Name: value, dtype: float64"
      ]
     },
     "execution_count": 134,
     "metadata": {},
     "output_type": "execute_result"
    }
   ],
   "source": [
    "## Sell\n",
    "df_selected[df_selected['business_type'] == 'Venda']['value'].describe()"
   ]
  },
  {
   "cell_type": "code",
   "execution_count": 135,
   "metadata": {},
   "outputs": [
    {
     "data": {
      "text/plain": [
       "count    25539.000000\n",
       "mean      2841.348977\n",
       "std       5538.248599\n",
       "min        100.000000\n",
       "25%        800.000000\n",
       "50%       1210.000000\n",
       "75%       2400.000000\n",
       "max      98000.000000\n",
       "Name: value, dtype: float64"
      ]
     },
     "execution_count": 135,
     "metadata": {},
     "output_type": "execute_result"
    }
   ],
   "source": [
    "## Rent\n",
    "df_selected[df_selected['business_type'] == 'Locação']['value'].describe()"
   ]
  },
  {
   "cell_type": "code",
   "execution_count": 136,
   "metadata": {},
   "outputs": [
    {
     "data": {
      "text/plain": [
       "array(['Venda', 'Locação'], dtype=object)"
      ]
     },
     "execution_count": 136,
     "metadata": {},
     "output_type": "execute_result"
    }
   ],
   "source": [
    "df_selected['business_type'].unique()"
   ]
  },
  {
   "cell_type": "code",
   "execution_count": null,
   "metadata": {},
   "outputs": [],
   "source": [
    "df_selected['scraping.spider_name'].unique().shape"
   ]
  },
  {
   "cell_type": "code",
   "execution_count": 19,
   "metadata": {},
   "outputs": [
    {
     "name": "stdout",
     "output_type": "stream",
     "text": [
      "(1585,)\n",
      "(1583,)\n",
      "(92247,)\n"
     ]
    }
   ],
   "source": [
    "print(df_selected['advertiser.id'].unique().shape)\n",
    "print(df_selected['advertiser.name'].unique().shape)\n",
    "print(df_selected['title'].unique().shape)"
   ]
  },
  {
   "cell_type": "code",
   "execution_count": 15,
   "metadata": {
    "scrolled": false
   },
   "outputs": [
    {
     "name": "stdout",
     "output_type": "stream",
     "text": [
      "(148383, 42)\n"
     ]
    }
   ],
   "source": [
    "df_dup_ad_id = df_selected[df_selected.duplicated(['advertiser.id'])]\n",
    "print(df_dup_ad_id.shape)\n",
    "del df_dup_ad_id"
   ]
  },
  {
   "cell_type": "code",
   "execution_count": 20,
   "metadata": {},
   "outputs": [
    {
     "name": "stdout",
     "output_type": "stream",
     "text": [
      "(148385, 42)\n"
     ]
    }
   ],
   "source": [
    "df_dup_ad_name = df_selected[df_selected.duplicated(['advertiser.name'])]\n",
    "print(df_dup_ad_name.shape)\n",
    "del df_dup_ad_name"
   ]
  },
  {
   "cell_type": "code",
   "execution_count": 22,
   "metadata": {
    "scrolled": false
   },
   "outputs": [
    {
     "name": "stdout",
     "output_type": "stream",
     "text": [
      "(57721, 42)\n"
     ]
    }
   ],
   "source": [
    "df_dup_title = df_selected[df_selected.duplicated(['title'])]\n",
    "print(df_dup_title.shape)\n",
    "del df_dup_title"
   ]
  },
  {
   "cell_type": "code",
   "execution_count": 24,
   "metadata": {},
   "outputs": [
    {
     "name": "stdout",
     "output_type": "stream",
     "text": [
      "(46020, 42)\n"
     ]
    }
   ],
   "source": [
    "df_dup_ad_nameid_title = df_selected[df_selected.duplicated(['title', 'advertiser.name', 'advertiser.id'])]\n",
    "print(df_dup_ad_nameid_title.shape)\n",
    "del df_dup_ad_nameid_title"
   ]
  },
  {
   "cell_type": "code",
   "execution_count": 25,
   "metadata": {},
   "outputs": [],
   "source": [
    "df_dp = df_selected.drop_duplicates(['title', 'advertiser.name', 'advertiser.id'])"
   ]
  },
  {
   "cell_type": "code",
   "execution_count": null,
   "metadata": {},
   "outputs": [],
   "source": []
  },
  {
   "cell_type": "markdown",
   "metadata": {},
   "source": [
    "# Deal with outlier"
   ]
  },
  {
   "cell_type": "markdown",
   "metadata": {},
   "source": [
    "1. What typeso f interesting outliers can be idetified?\n",
    "    - What rule should we use to remove or maintain outlier? -> See distibution with z-score"
   ]
  },
  {
   "cell_type": "code",
   "execution_count": 30,
   "metadata": {
    "scrolled": true
   },
   "outputs": [
    {
     "name": "stderr",
     "output_type": "stream",
     "text": [
      "/Users/nuttakanwiriyakrieng/anaconda3/lib/python3.6/site-packages/ipykernel_launcher.py:1: SettingWithCopyWarning: \n",
      "A value is trying to be set on a copy of a slice from a DataFrame.\n",
      "Try using .loc[row_indexer,col_indexer] = value instead\n",
      "\n",
      "See the caveats in the documentation: http://pandas.pydata.org/pandas-docs/stable/indexing.html#indexing-view-versus-copy\n",
      "  \"\"\"Entry point for launching an IPython kernel.\n"
     ]
    }
   ],
   "source": [
    "df_dp['z_value'] = np.abs((df_dp['value'] - df_dp['value'].mean())/df_dp['value'].std(ddof=0))"
   ]
  },
  {
   "cell_type": "code",
   "execution_count": 31,
   "metadata": {},
   "outputs": [],
   "source": [
    "df_wo = df_dp[df_dp['z_value'] < 1]"
   ]
  },
  {
   "cell_type": "code",
   "execution_count": 32,
   "metadata": {
    "scrolled": true
   },
   "outputs": [
    {
     "data": {
      "text/plain": [
       "advertiser.id             721\n",
       "advertiser.name           721\n",
       "area_total              34852\n",
       "area_util               23057\n",
       "neighborhood.id           665\n",
       "neighborhood.name         665\n",
       "bathroom                26096\n",
       "city.full_name              0\n",
       "city.short_name             0\n",
       "city_uf                     0\n",
       "code                    51542\n",
       "condominium             23924\n",
       "date_inclusion              0\n",
       "default                     0\n",
       "description                 0\n",
       "address                 24086\n",
       "error                       0\n",
       "goal                        0\n",
       "garage                  10786\n",
       "geohash                 24086\n",
       "geometry.coordinates    24086\n",
       "geometry.type           24086\n",
       "iptu                    34439\n",
       "isparticular                0\n",
       "isportal                    0\n",
       "latitude                24074\n",
       "photolist                1707\n",
       "longitude               24074\n",
       "optional                    0\n",
       "bedroom                  5706\n",
       "scraping.spider_name        0\n",
       "status                      0\n",
       "suite                   35126\n",
       "motion_type                 0\n",
       "business_type               0\n",
       "title                       0\n",
       "uf                          0\n",
       "url                         0\n",
       "value                       0\n",
       "zoning.id               29132\n",
       "zoning.name             29132\n",
       "zoning.initials         29132\n",
       "z_value                     0\n",
       "dtype: int64"
      ]
     },
     "execution_count": 32,
     "metadata": {},
     "output_type": "execute_result"
    }
   ],
   "source": [
    "df_wo.isnull().sum()"
   ]
  },
  {
   "cell_type": "code",
   "execution_count": 33,
   "metadata": {
    "scrolled": true
   },
   "outputs": [],
   "source": [
    "value_dis_plot = df_wo.groupby(['value'], as_index=False)['value'].agg({'freq':'count'})"
   ]
  },
  {
   "cell_type": "code",
   "execution_count": 42,
   "metadata": {
    "scrolled": false
   },
   "outputs": [
    {
     "data": {
      "text/plain": [
       "Text(0.5, 1.0, 'Value Distribution - After Cut Outlier')"
      ]
     },
     "execution_count": 42,
     "metadata": {},
     "output_type": "execute_result"
    },
    {
     "data": {
      "image/png": "[encoded data removed]",
      "text/plain": [
       "<Figure size 432x288 with 1 Axes>"
      ]
     },
     "metadata": {
      "needs_background": "light"
     },
     "output_type": "display_data"
    }
   ],
   "source": [
    "## Plot Value Distribution\n",
    "sns.distplot(df_wo[df_wo['value'] < 3000]['value'], fit=norm).set_title(\"Value Distribution - After Cut Outlier\")"
   ]
  },
  {
   "cell_type": "code",
   "execution_count": 36,
   "metadata": {},
   "outputs": [
    {
     "data": {
      "text/plain": [
       "63504"
      ]
     },
     "execution_count": 36,
     "metadata": {},
     "output_type": "execute_result"
    }
   ],
   "source": [
    "df_wo[df_wo['value'] <= 500000]['value'].count()"
   ]
  },
  {
   "cell_type": "code",
   "execution_count": 62,
   "metadata": {
    "scrolled": true
   },
   "outputs": [
    {
     "data": {
      "text/plain": [
       "0                            Casa\n",
       "1                         Sobrado\n",
       "3                     Apartamento\n",
       "4                            Casa\n",
       "5                 Quarto, Sobrado\n",
       "6                      Residencia\n",
       "7             Terreno, Residencia\n",
       "8                            Casa\n",
       "9                            Casa\n",
       "10                    Apartamento\n",
       "11        Apartamento, Residencia\n",
       "12        Apartamento, Residencia\n",
       "13                       Conjunto\n",
       "14        Apartamento, Residencia\n",
       "15                    Apartamento\n",
       "16                        Sobrado\n",
       "17                           Casa\n",
       "18           Garagem, Apartamento\n",
       "19                    Apartamento\n",
       "20                           Casa\n",
       "21                           Loja\n",
       "22                   Quarto, Casa\n",
       "23                        Sobrado\n",
       "25                    Apartamento\n",
       "26                           Casa\n",
       "27                           Casa\n",
       "28                   Quarto, Casa\n",
       "29                    Apartamento\n",
       "30                      Cobertura\n",
       "31                     Residencia\n",
       "                   ...           \n",
       "149882                       Loja\n",
       "149889                     Studio\n",
       "149892    Residencia, Apartamento\n",
       "149894                Apartamento\n",
       "149897                   Conjunto\n",
       "149899                       Loja\n",
       "149904                     Studio\n",
       "149905                       Loja\n",
       "149908    Residencia, Apartamento\n",
       "149910                Apartamento\n",
       "149916                       Loja\n",
       "149918                       Flat\n",
       "149919                       Casa\n",
       "149920                Apartamento\n",
       "149921                 Residencia\n",
       "149922                       Sala\n",
       "149923        Studio, Apartamento\n",
       "149932             Sala, Conjunto\n",
       "149934                Apartamento\n",
       "149937    Residencia, Apartamento\n",
       "149938                       Sala\n",
       "149939                Apartamento\n",
       "149941    Residencia, Apartamento\n",
       "149944                       Casa\n",
       "149949    Industrial, Apartamento\n",
       "149951                       Sala\n",
       "149952    Residencia, Apartamento\n",
       "149954                    Sobrado\n",
       "149959                Apartamento\n",
       "149961                       Casa\n",
       "Name: motion_type, Length: 97153, dtype: object"
      ]
     },
     "execution_count": 62,
     "metadata": {},
     "output_type": "execute_result"
    }
   ],
   "source": [
    "df_wo['motion_type'].apply(', '.join)"
   ]
  },
  {
   "cell_type": "markdown",
   "metadata": {},
   "source": [
    "# Value Analysis"
   ]
  },
  {
   "cell_type": "code",
   "execution_count": null,
   "metadata": {
    "scrolled": true
   },
   "outputs": [],
   "source": [
    "print([f for f in df_wo['neighborhood.name'].unique()])"
   ]
  },
  {
   "cell_type": "code",
   "execution_count": null,
   "metadata": {
    "scrolled": true
   },
   "outputs": [],
   "source": [
    "df_wo['neighborhood.name']"
   ]
  },
  {
   "cell_type": "markdown",
   "metadata": {},
   "source": [
    "## Top 20 High price neighborhood"
   ]
  },
  {
   "cell_type": "code",
   "execution_count": null,
   "metadata": {},
   "outputs": [],
   "source": [
    "top_mean_price = df_wo[['neighborhood.name', 'value']].groupby(['neighborhood.name'], as_index=False).mean()"
   ]
  },
  {
   "cell_type": "code",
   "execution_count": null,
   "metadata": {},
   "outputs": [],
   "source": [
    "top_mean_price.sort_values(by=('value'), ascending=False).head(20)"
   ]
  },
  {
   "cell_type": "markdown",
   "metadata": {},
   "source": [
    "top_mean_price.sort_values(by=('value'), ascending=False).head(20)"
   ]
  },
  {
   "cell_type": "code",
   "execution_count": null,
   "metadata": {
    "scrolled": false
   },
   "outputs": [],
   "source": [
    "plt.figure(figsize=(10, 10))\n",
    "ax = sns.barplot(x=\"value\", y=\"neighborhood.name\", data=top_mean_price.sort_values(by=('value'), ascending=False).head(20))"
   ]
  },
  {
   "cell_type": "markdown",
   "metadata": {},
   "source": [
    "## Map of the Top 20 High Price neighborhood"
   ]
  },
  {
   "cell_type": "markdown",
   "metadata": {},
   "source": [
    "## Distribution Top 10 price neighborhood"
   ]
  },
  {
   "cell_type": "code",
   "execution_count": null,
   "metadata": {},
   "outputs": [],
   "source": [
    "## top price neighborhood name ##\n",
    "top_10_name = top_mean_price.sort_values(by=('value'), ascending=False).head(10)['neighborhood.name'].unique()"
   ]
  },
  {
   "cell_type": "code",
   "execution_count": null,
   "metadata": {},
   "outputs": [],
   "source": [
    "list(top_10_name)"
   ]
  },
  {
   "cell_type": "code",
   "execution_count": null,
   "metadata": {},
   "outputs": [],
   "source": [
    "df_top10_dist = df_wo[df_wo['neighborhood.name'].isin(top_10_name)]"
   ]
  },
  {
   "cell_type": "code",
   "execution_count": null,
   "metadata": {},
   "outputs": [],
   "source": [
    "plt.figure(figsize=(10, 10))\n",
    "sns.boxplot(data=df_top10_dist, x=\"value\", y=\"neighborhood.name\")"
   ]
  },
  {
   "cell_type": "markdown",
   "metadata": {},
   "source": [
    "## Bedrooms and Price Analysis"
   ]
  },
  {
   "cell_type": "markdown",
   "metadata": {},
   "source": [
    "### Cleaning Bedrooms"
   ]
  },
  {
   "cell_type": "code",
   "execution_count": null,
   "metadata": {
    "scrolled": true
   },
   "outputs": [],
   "source": [
    "df_wo[['bedroom']]"
   ]
  },
  {
   "cell_type": "code",
   "execution_count": null,
   "metadata": {
    "scrolled": false
   },
   "outputs": [],
   "source": [
    "bedroom_price = df_wo[['bedroom', 'value']].groupby(['bedroom'], as_index=False).mean()\n",
    "plt.figure(figsize=(20, 10))\n",
    "ax = sns.barplot(x=\"bedroom\", y=\"value\", data=bedroom_price.sort_values(by=('value'), ascending=False).head(30))"
   ]
  },
  {
   "cell_type": "code",
   "execution_count": null,
   "metadata": {},
   "outputs": [],
   "source": [
    "## Notes ##\n",
    "# have outlier in bedrooms"
   ]
  },
  {
   "cell_type": "markdown",
   "metadata": {},
   "source": [
    "## Garage and Price Analysis"
   ]
  },
  {
   "cell_type": "code",
   "execution_count": null,
   "metadata": {},
   "outputs": [],
   "source": [
    "garage_price = df_wo[['garage', 'value']].groupby(['garage'], as_index=False).mean()\n",
    "plt.figure(figsize=(20, 10))\n",
    "ax = sns.barplot(x=\"garage\", y=\"value\", data=garage_price.sort_values(by=('value'), ascending=False).head(30))"
   ]
  },
  {
   "cell_type": "markdown",
   "metadata": {},
   "source": [
    "## Bathroom and Price Analysis"
   ]
  },
  {
   "cell_type": "code",
   "execution_count": null,
   "metadata": {},
   "outputs": [],
   "source": [
    "bathroom_price = df_wo[['bathroom', 'value']].groupby(['bathroom'], as_index=False).mean()\n",
    "plt.figure(figsize=(20, 10))\n",
    "ax = sns.barplot(x=\"bathroom\", y=\"value\", data=bathroom_price.sort_values(by=('value'), ascending=False).head(30))"
   ]
  },
  {
   "cell_type": "markdown",
   "metadata": {},
   "source": [
    "## Suite and Price Analysis"
   ]
  },
  {
   "cell_type": "code",
   "execution_count": null,
   "metadata": {
    "scrolled": true
   },
   "outputs": [],
   "source": [
    "suite_price = df_wo[['suite', 'value']].groupby(['suite'], as_index=False).mean()\n",
    "plt.figure(figsize=(20, 10))\n",
    "ax = sns.barplot(x=\"suite\", y=\"value\", data=suite_price.sort_values(by=('value'), ascending=False).head(30))"
   ]
  },
  {
   "cell_type": "markdown",
   "metadata": {},
   "source": [
    "## Area and Price Analysis"
   ]
  },
  {
   "cell_type": "code",
   "execution_count": null,
   "metadata": {},
   "outputs": [],
   "source": [
    "area_total_price = df_wo[['area_total', 'value']].groupby(['area_total'], as_index=False).mean()\n",
    "plt.figure(figsize=(20, 10))\n",
    "ax = sns.barplot(x=\"area_total\", y=\"value\", data=area_total_price.sort_values(by=('value'), ascending=False).head(20))"
   ]
  },
  {
   "cell_type": "markdown",
   "metadata": {},
   "source": [
    "### Number\n",
    "area_total -\n",
    "area_util -\n",
    "bathroom -\n",
    "garage -\n",
    "bedroom -\n",
    "suite"
   ]
  },
  {
   "cell_type": "code",
   "execution_count": null,
   "metadata": {},
   "outputs": [],
   "source": [
    "df_est_prop = df_wo[['value','area_total', 'area_util', 'bathroom', 'garage', 'bedroom', 'suite']]"
   ]
  },
  {
   "cell_type": "code",
   "execution_count": null,
   "metadata": {},
   "outputs": [],
   "source": [
    "df_est_prop_corr = df_est_prop.corr()"
   ]
  },
  {
   "cell_type": "code",
   "execution_count": null,
   "metadata": {},
   "outputs": [],
   "source": [
    "plt.figure(figsize=(10, 10))\n",
    "pp = sns.heatmap(df_est_prop_corr, linewidths=.2, cmap=\"YlGnBu\", annot = True)"
   ]
  },
  {
   "cell_type": "code",
   "execution_count": null,
   "metadata": {},
   "outputs": [],
   "source": []
  }
 ],
 "metadata": {
  "kernelspec": {
   "display_name": "Python 3",
   "language": "python",
   "name": "python3"
  },
  "language_info": {
   "codemirror_mode": {
    "name": "ipython",
    "version": 3
   },
   "file_extension": ".py",
   "mimetype": "text/x-python",
   "name": "python",
   "nbconvert_exporter": "python",
   "pygments_lexer": "ipython3",
   "version": "3.6.8"
  }
 },
 "nbformat": 4,
 "nbformat_minor": 2
}
